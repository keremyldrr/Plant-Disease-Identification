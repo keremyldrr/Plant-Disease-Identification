{
 "cells": [
  {
   "cell_type": "code",
   "execution_count": 18,
   "metadata": {},
   "outputs": [
    {
     "ename": "AttributeError",
     "evalue": "module 'string' has no attribute 'lower'",
     "output_type": "error",
     "traceback": [
      "\u001b[0;31m---------------------------------------------------------------------------\u001b[0m",
      "\u001b[0;31mAttributeError\u001b[0m                            Traceback (most recent call last)",
      "\u001b[0;32m<ipython-input-18-640ea212d6f2>\u001b[0m in \u001b[0;36m<module>\u001b[0;34m\u001b[0m\n\u001b[1;32m      3\u001b[0m \u001b[0;32mimport\u001b[0m \u001b[0mshutil\u001b[0m\u001b[0;34m\u001b[0m\u001b[0;34m\u001b[0m\u001b[0m\n\u001b[1;32m      4\u001b[0m \u001b[0;32mimport\u001b[0m \u001b[0mstring\u001b[0m\u001b[0;34m\u001b[0m\u001b[0;34m\u001b[0m\u001b[0m\n\u001b[0;32m----> 5\u001b[0;31m \u001b[0mstring\u001b[0m\u001b[0;34m.\u001b[0m\u001b[0mlower\u001b[0m\u001b[0;34m(\u001b[0m\u001b[0;34m\"aASEDASD\"\u001b[0m\u001b[0;34m)\u001b[0m\u001b[0;34m\u001b[0m\u001b[0;34m\u001b[0m\u001b[0m\n\u001b[0m",
      "\u001b[0;31mAttributeError\u001b[0m: module 'string' has no attribute 'lower'"
     ]
    }
   ],
   "source": [
    "import pandas as pd\n",
    "import os\n",
    "import shutil\n",
    "import string"
   ]
  },
  {
   "cell_type": "code",
   "execution_count": 2,
   "metadata": {},
   "outputs": [],
   "source": []
  },
  {
   "cell_type": "code",
   "execution_count": 52,
   "metadata": {},
   "outputs": [
    {
     "data": {
      "text/plain": [
       "54305"
      ]
     },
     "execution_count": 52,
     "metadata": {},
     "output_type": "execute_result"
    }
   ],
   "source": [
    "path = \"\"\n",
    "images = []\n",
    "folder = os.listdir(\"38CLASS/\")\n",
    "for fld in folder:\n",
    "    path = \"38CLASS/\" + fld\n",
    "    categories = os.listdir(path)\n",
    "    for cat in categories:\n",
    "        imgs = os.listdir(path + \"/\" + cat)\n",
    "        for im in imgs:\n",
    "            images.append(path + \"/\" + cat  + \"/\" + im)\n",
    "            \n",
    "len(images)"
   ]
  },
  {
   "cell_type": "code",
   "execution_count": 48,
   "metadata": {},
   "outputs": [],
   "source": [
    "newClasses = [\"healthy\",\"Blight\",\"Mold\",\"Mildew\",\"Spot\",\"Rot\",\"rust\",\"virus\",\"measles\",\"greening\",\"scorch\"]"
   ]
  },
  {
   "cell_type": "code",
   "execution_count": 49,
   "metadata": {},
   "outputs": [],
   "source": [
    "count= 0\n",
    "for nm in images:\n",
    "    found = False\n",
    "    for c in newClasses:\n",
    "        lw  =nm.lower()\n",
    "        new = c.lower()\n",
    "        res = lw.find(new)\n",
    "        \n",
    "        if res != -1:\n",
    "            if lw.find(\"train\") != -1:\n",
    "                shutil.copy2(nm,\"12CLASS/train/\" + new + \"/\")\n",
    "                \n",
    "            elif lw.find(\"test\") != -1:\n",
    "                shutil.copy2(nm,\"12CLASS/test/\" + new + \"/\")\n",
    "   \n",
    "            elif lw.find(\"validation\") != -1:\n",
    "                shutil.copy2(nm,\"12CLASS/validation/\" + new + \"/\")\n",
    "            found = True\n",
    "        if found:\n",
    "            count+=1\n",
    "            break"
   ]
  },
  {
   "cell_type": "code",
   "execution_count": 50,
   "metadata": {},
   "outputs": [],
   "source": [
    "path = \"\"\n",
    "images = []\n",
    "folder = os.listdir(\"12CLASS/\")\n",
    "for fld in folder:\n",
    "    path = \"12CLASS/\" + fld\n",
    "    categories = os.listdir(path)\n",
    "    for cat in categories:\n",
    "        imgs = os.listdir(path + \"/\" + cat)\n",
    "        for im in imgs:\n",
    "            images.append(path + \"/\" + cat  + \"/\" + im)\n",
    "            \n"
   ]
  },
  {
   "cell_type": "code",
   "execution_count": 54,
   "metadata": {},
   "outputs": [
    {
     "data": {
      "text/plain": [
       "630"
      ]
     },
     "execution_count": 54,
     "metadata": {},
     "output_type": "execute_result"
    }
   ],
   "source": [
    "# for cls in newClasses:\n",
    "#     cls = cls.lower()\n",
    "#     os.makedirs(\"12CLASS/train/\"+cls)\n",
    "#     os.makedirs(\"12CLASS/validation/\"+cls)\n",
    "#     os.makedirs(\"12CLASS/test/\"+cls)\n"
   ]
  }
 ],
 "metadata": {
  "kernelspec": {
   "display_name": "Python 3",
   "language": "python",
   "name": "python3"
  },
  "language_info": {
   "codemirror_mode": {
    "name": "ipython",
    "version": 3
   },
   "file_extension": ".py",
   "mimetype": "text/x-python",
   "name": "python",
   "nbconvert_exporter": "python",
   "pygments_lexer": "ipython3",
   "version": "3.7.2"
  }
 },
 "nbformat": 4,
 "nbformat_minor": 2
}
