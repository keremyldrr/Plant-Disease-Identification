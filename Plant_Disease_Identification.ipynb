{
  "nbformat": 4,
  "nbformat_minor": 0,
  "metadata": {
    "colab": {
      "name": "CS412_Project3_KBYC.ipynb",
      "provenance": [],
      "collapsed_sections": [],
      "toc_visible": true,
      "include_colab_link": true
    },
    "kernelspec": {
      "name": "python3",
      "display_name": "Python 3"
    },
    "accelerator": "GPU"
  },
  "cells": [
    {
      "cell_type": "markdown",
      "metadata": {
        "id": "view-in-github",
        "colab_type": "text"
      },
      "source": [
        "<a href=\"https://colab.research.google.com/github/keremyldrr/Plant-Disease-Identification/blob/master/Plant_Disease_Identification.ipynb\" target=\"_parent\"><img src=\"https://colab.research.google.com/assets/colab-badge.svg\" alt=\"Open In Colab\"/></a>"
      ]
    },
    {
      "cell_type": "code",
      "metadata": {
        "id": "8K4N5QM_vutM",
        "colab": {
          "base_uri": "https://localhost:8080/",
          "height": 139
        },
        "outputId": "e96a95ee-1b4e-4e83-f75d-c7ba37c6703f"
      },
      "source": [
        "#Libraries\n",
        "import os\n",
        "import numpy as np\n",
        "import pprint\n",
        "import tensorflow as tf\n",
        "import pandas as pd\n",
        "import matplotlib.pyplot as plt\n",
        "from tensorflow.python.client import device_lib\n",
        "from keras.preprocessing.image import ImageDataGenerator\n",
        "from keras.utils.vis_utils import plot_model\n",
        "\n",
        "from google.colab import drive\n",
        "drive.mount('/content/drive')"
      ],
      "execution_count": null,
      "outputs": [
        {
          "output_type": "stream",
          "text": [
            "Using TensorFlow backend.\n"
          ],
          "name": "stderr"
        },
        {
          "output_type": "stream",
          "text": [
            "Go to this URL in a browser: https://accounts.google.com/o/oauth2/auth?client_id=947318989803-6bn6qk8qdgf4n4g3pfee6491hc0brc4i.apps.googleusercontent.com&redirect_uri=urn%3Aietf%3Awg%3Aoauth%3A2.0%3Aoob&scope=email%20https%3A%2F%2Fwww.googleapis.com%2Fauth%2Fdocs.test%20https%3A%2F%2Fwww.googleapis.com%2Fauth%2Fdrive%20https%3A%2F%2Fwww.googleapis.com%2Fauth%2Fdrive.photos.readonly%20https%3A%2F%2Fwww.googleapis.com%2Fauth%2Fpeopleapi.readonly&response_type=code\n",
            "\n",
            "Enter your authorization code:\n",
            "··········\n",
            "Mounted at /content/drive\n"
          ],
          "name": "stdout"
        }
      ]
    },
    {
      "cell_type": "code",
      "metadata": {
        "id": "h0HUqJ2AWk49",
        "colab": {
          "base_uri": "https://localhost:8080/",
          "height": 153
        },
        "outputId": "fffb1465-b01f-428a-8de7-3391fcdbc656"
      },
      "source": [
        "#Github access\n",
        "!pip install -q xlrd\n",
        "!git clone https://github.com/keremyldrr/Plant-Disease-Identification.git"
      ],
      "execution_count": null,
      "outputs": [
        {
          "output_type": "stream",
          "text": [
            "Cloning into 'Plant-Disease-Identification'...\n",
            "remote: Enumerating objects: 22, done.\u001b[K\n",
            "remote: Counting objects: 100% (22/22), done.\u001b[K\n",
            "remote: Compressing objects: 100% (18/18), done.\u001b[K\n",
            "remote: Total 54506 (delta 10), reused 16 (delta 4), pack-reused 54484\u001b[K\n",
            "Receiving objects: 100% (54506/54506), 857.61 MiB | 30.44 MiB/s, done.\n",
            "Resolving deltas: 100% (117/117), done.\n",
            "Checking out files: 100% (162300/162300), done.\n"
          ],
          "name": "stdout"
        }
      ]
    },
    {
      "cell_type": "code",
      "metadata": {
        "id": "a5H95nf-Wq3z",
        "colab": {
          "base_uri": "https://localhost:8080/",
          "height": 85
        },
        "outputId": "2eb0b7a6-193a-4fb1-8cce-87870730b3b8"
      },
      "source": [
        "# Files from the cloned git repository.\n",
        "!ls Plant-Disease-Identification/12CLASS/train\n",
        "!ls Plant-Disease-Identification/12CLASS/test"
      ],
      "execution_count": null,
      "outputs": [
        {
          "output_type": "stream",
          "text": [
            "blight\t  healthy  mildew  rot\t scorch  virus\n",
            "greening  measles  mold    rust  spot\n",
            "blight\t  healthy  mildew  rot\t scorch  virus\n",
            "greening  measles  mold    rust  spot\n"
          ],
          "name": "stdout"
        }
      ]
    },
    {
      "cell_type": "code",
      "metadata": {
        "id": "0bYndkmBCMrV",
        "colab": {
          "base_uri": "https://localhost:8080/",
          "height": 34
        },
        "outputId": "540426d7-a6c6-4fe2-dfdc-7e1bfb7e7f36"
      },
      "source": [
        "#Check GPU\n",
        "tf.test.gpu_device_name()"
      ],
      "execution_count": null,
      "outputs": [
        {
          "output_type": "execute_result",
          "data": {
            "text/plain": [
              "'/device:GPU:0'"
            ]
          },
          "metadata": {
            "tags": []
          },
          "execution_count": 4
        }
      ]
    },
    {
      "cell_type": "code",
      "metadata": {
        "id": "HHPufi0HCeiH",
        "colab": {
          "base_uri": "https://localhost:8080/",
          "height": 476
        },
        "outputId": "f9e2e3f4-7629-4d05-d118-ee81d9f66aef"
      },
      "source": [
        "#Check CPU and GPU\n",
        "device_lib.list_local_devices()"
      ],
      "execution_count": null,
      "outputs": [
        {
          "output_type": "execute_result",
          "data": {
            "text/plain": [
              "[name: \"/device:CPU:0\"\n",
              " device_type: \"CPU\"\n",
              " memory_limit: 268435456\n",
              " locality {\n",
              " }\n",
              " incarnation: 8777347762990180726, name: \"/device:XLA_CPU:0\"\n",
              " device_type: \"XLA_CPU\"\n",
              " memory_limit: 17179869184\n",
              " locality {\n",
              " }\n",
              " incarnation: 4453456230960390780\n",
              " physical_device_desc: \"device: XLA_CPU device\", name: \"/device:XLA_GPU:0\"\n",
              " device_type: \"XLA_GPU\"\n",
              " memory_limit: 17179869184\n",
              " locality {\n",
              " }\n",
              " incarnation: 12077063240988399618\n",
              " physical_device_desc: \"device: XLA_GPU device\", name: \"/device:GPU:0\"\n",
              " device_type: \"GPU\"\n",
              " memory_limit: 11276946637\n",
              " locality {\n",
              "   bus_id: 1\n",
              "   links {\n",
              "   }\n",
              " }\n",
              " incarnation: 12306977731453900178\n",
              " physical_device_desc: \"device: 0, name: Tesla K80, pci bus id: 0000:00:04.0, compute capability: 3.7\"]"
            ]
          },
          "metadata": {
            "tags": []
          },
          "execution_count": 5
        }
      ]
    },
    {
      "cell_type": "code",
      "metadata": {
        "id": "LX6DQ4cZxVEN"
      },
      "source": [
        "#Train Data Generator with Data Augmentation(Flips, Normalizations, etc.), Train/Validation = 0.8/0.2\n",
        "train_gen = ImageDataGenerator(featurewise_center=True, samplewise_center=True, \n",
        "                               featurewise_std_normalization=True,\n",
        "                               samplewise_std_normalization=True,\n",
        "                               zca_whitening=False, zca_epsilon=1e-06,\n",
        "                               rotation_range=10,\n",
        "                               width_shift_range=0.0,\n",
        "                               height_shift_range=0.0, \n",
        "                               brightness_range=None,\n",
        "                               shear_range=0.0, \n",
        "                               zoom_range=0.0, channel_shift_range=0.0, fill_mode='nearest', cval=0.0, horizontal_flip=True,\n",
        "                               vertical_flip=True, rescale=None, preprocessing_function=None, data_format=None,validation_split=0, dtype=None)\n",
        "\n",
        "#Preprocessing function\n",
        "#random_rotation(x, 45)"
      ],
      "execution_count": null,
      "outputs": []
    },
    {
      "cell_type": "code",
      "metadata": {
        "id": "FlwiUI0HJ2kl"
      },
      "source": [
        "#Train Data Generator with Data Augmentation(Flips, Normalizations, etc.), Train/Validation = 0.8/0.2\n",
        "validation_gen = ImageDataGenerator(featurewise_center=True, samplewise_center=True, \n",
        "                               featurewise_std_normalization=True,\n",
        "                               samplewise_std_normalization=True,\n",
        "                               zca_whitening=False, zca_epsilon=1e-06,\n",
        "                               rotation_range=10,\n",
        "                               width_shift_range=0.0,\n",
        "                               height_shift_range=0.0, \n",
        "                               brightness_range=None,\n",
        "                               shear_range=0.0, \n",
        "                               zoom_range=0.0, channel_shift_range=0.0, fill_mode='nearest', cval=0.0, horizontal_flip=True,\n",
        "                               vertical_flip=True, rescale=None, preprocessing_function=None, data_format=None,validation_split=None, dtype=None)\n",
        "\n",
        "#Preprocessing function\n",
        "#random_rotation(x, 45)"
      ],
      "execution_count": null,
      "outputs": []
    },
    {
      "cell_type": "code",
      "metadata": {
        "id": "koBHKmxUb2nw"
      },
      "source": [
        "#Test Data Generator\n",
        "test_gen = ImageDataGenerator(featurewise_center=True, samplewise_center=True, \n",
        "                               featurewise_std_normalization=True,\n",
        "                               samplewise_std_normalization=True,\n",
        "                               zca_whitening=False, zca_epsilon=1e-06,\n",
        "                               rotation_range=10,\n",
        "                               width_shift_range=0.0,\n",
        "                               height_shift_range=0.0, \n",
        "                               brightness_range=None,\n",
        "                               shear_range=0.0, \n",
        "                               zoom_range=0.0, channel_shift_range=0.0, fill_mode='nearest', cval=0.0, horizontal_flip=True,\n",
        "                               vertical_flip=True, rescale=None, preprocessing_function=None, data_format=None,validation_split=None, dtype=None)\n",
        "\n"
      ],
      "execution_count": null,
      "outputs": []
    },
    {
      "cell_type": "markdown",
      "metadata": {
        "id": "HvOwp7xndnRS"
      },
      "source": [
        "#12 CLASS DATA\n"
      ]
    },
    {
      "cell_type": "code",
      "metadata": {
        "id": "7IB8WF38zd0F",
        "colab": {
          "base_uri": "https://localhost:8080/",
          "height": 119
        },
        "outputId": "5cdab166-455f-4add-c940-b13d848efda2"
      },
      "source": [
        "#For 12 class\n",
        "image_data = train_gen.flow_from_directory(\"/content/Plant-Disease-Identification/12CLASS/train\", shuffle = True, target_size = (224, 224), class_mode = 'binary')\n",
        "print(image_data)\n",
        "\n",
        "validation_data = validation_gen.flow_from_directory(\"/content/Plant-Disease-Identification/12CLASS/validation\", shuffle = True, target_size = (224, 224), class_mode = 'binary')\n",
        "print(validation_data)\n",
        "\n",
        "test_data = test_gen.flow_from_directory(\"/content/Plant-Disease-Identification/12CLASS/test\", shuffle = False, target_size = (224, 224), class_mode = 'binary')\n",
        "print(test_data)\n"
      ],
      "execution_count": null,
      "outputs": [
        {
          "output_type": "stream",
          "text": [
            "Found 34349 images belonging to 11 classes.\n",
            "<keras_preprocessing.image.directory_iterator.DirectoryIterator object at 0x7f3e732fbac8>\n",
            "Found 8571 images belonging to 11 classes.\n",
            "<keras_preprocessing.image.directory_iterator.DirectoryIterator object at 0x7f3e732fbf98>\n",
            "Found 10755 images belonging to 11 classes.\n",
            "<keras_preprocessing.image.directory_iterator.DirectoryIterator object at 0x7f3e7329f6d8>\n"
          ],
          "name": "stdout"
        }
      ]
    },
    {
      "cell_type": "markdown",
      "metadata": {
        "id": "cvrXnZOIdrty"
      },
      "source": [
        "#38 CLASS DATA"
      ]
    },
    {
      "cell_type": "code",
      "metadata": {
        "id": "oMN-RoIbLyTI",
        "colab": {
          "base_uri": "https://localhost:8080/",
          "height": 118
        },
        "outputId": "70b10acc-ce63-4608-bf01-d35eece1dc50"
      },
      "source": [
        "#For 38 class\n",
        "image_data = train_gen.flow_from_directory(\"/content/Plant-Disease-Identification/38CLASS/train\", shuffle = True, target_size = (224, 224), class_mode = 'binary')\n",
        "print(image_data)\n",
        "\n",
        "validation_data = train_gen.flow_from_directory(\"/content/Plant-Disease-Identification/38CLASS/validation\", shuffle = True, target_size = (224, 224), class_mode = 'binary')\n",
        "print(validation_data)\n",
        "\n",
        "test_data = train_gen.flow_from_directory(\"/content/Plant-Disease-Identification/38CLASS/test\", shuffle = False, target_size = (224, 224), class_mode = 'binary')\n",
        "print(test_data)\n"
      ],
      "execution_count": null,
      "outputs": [
        {
          "output_type": "stream",
          "text": [
            "Found 34755 images belonging to 38 classes.\n",
            "<keras_preprocessing.image.directory_iterator.DirectoryIterator object at 0x7fe3cefa8048>\n",
            "Found 8672 images belonging to 38 classes.\n",
            "<keras_preprocessing.image.directory_iterator.DirectoryIterator object at 0x7fe3cefa8550>\n",
            "Found 10878 images belonging to 38 classes.\n",
            "<keras_preprocessing.image.directory_iterator.DirectoryIterator object at 0x7fe3cefa8898>\n"
          ],
          "name": "stdout"
        }
      ]
    },
    {
      "cell_type": "markdown",
      "metadata": {
        "id": "qWEq9k8-c2pN"
      },
      "source": [
        "#12 CLASS, CASE 1, ONLY LAST LAYER TRAINABLE"
      ]
    },
    {
      "cell_type": "code",
      "metadata": {
        "id": "BYINW9eB-jPC"
      },
      "source": [
        "#12 Classes: CASE 1\n",
        "checkpoint_path = \"drive/My Drive/Colab Notebooks/TensorFlow/training_12_1/cp.ckpt\"\n",
        "\n",
        "\n",
        "checkpoint_dir = os.path.dirname(checkpoint_path)\n",
        "\n",
        "# Create checkpoint callback\n",
        "cp_callback = tf.keras.callbacks.ModelCheckpoint(checkpoint_path, \n",
        "                                                 monitor='val_loss',\n",
        "                                                 save_weights_only=True,\n",
        "                                                 save_best_only=True,\n",
        "                                                 verbose=1)"
      ],
      "execution_count": null,
      "outputs": []
    },
    {
      "cell_type": "code",
      "metadata": {
        "id": "aCPwYpJVzniM",
        "colab": {
          "base_uri": "https://localhost:8080/",
          "height": 202
        },
        "outputId": "db5e904a-2eb6-4904-baf5-02c2500662fb"
      },
      "source": [
        "#For 12 classes -> training_12_1.cpkt\n",
        "#Load pretrained(imagenet) VGG-16 model, leave out FC and Softmax layers\n",
        "vgg16 = tf.keras.applications.VGG16(include_top = False, weights = 'imagenet', pooling = 'max')\n",
        "\n",
        "#Only make last layer trainable\n",
        "for i in range(19):\n",
        "  vgg16.layers[i].trainable = False\n",
        "\n",
        "model = tf.keras.models.Sequential()\n",
        "model.add(vgg16)\n",
        "model.add(tf.keras.layers.Dense(12 ,activation = 'softmax'))\n",
        "\n",
        "#See the model summary\n",
        "#vgg16.summary()\n",
        "model.summary()\n",
        "plot_model(vgg16, to_file='drive/My Drive/Colab Notebooks/TensorFlow/vgg.png')\n",
        "plot_model(model, to_file='drive/My Drive/Colab Notebooks/TensorFlow/model.png')\n"
      ],
      "execution_count": null,
      "outputs": [
        {
          "output_type": "stream",
          "text": [
            "_________________________________________________________________\n",
            "Layer (type)                 Output Shape              Param #   \n",
            "=================================================================\n",
            "vgg16 (Model)                (None, 512)               14714688  \n",
            "_________________________________________________________________\n",
            "dense_4 (Dense)              (None, 12)                6156      \n",
            "=================================================================\n",
            "Total params: 14,720,844\n",
            "Trainable params: 6,156\n",
            "Non-trainable params: 14,714,688\n",
            "_________________________________________________________________\n"
          ],
          "name": "stdout"
        }
      ]
    },
    {
      "cell_type": "markdown",
      "metadata": {
        "id": "6cUUdRAcc5xF"
      },
      "source": [
        "#12 CLASS, CASE 2, ONLY LAST THREE LAYERS TRAINABLE\n"
      ]
    },
    {
      "cell_type": "code",
      "metadata": {
        "id": "T8xMoj0OQNdW",
        "colab": {
          "base_uri": "https://localhost:8080/",
          "height": 289
        },
        "outputId": "c9721236-8c29-4b4c-af5d-199d27d0edc8"
      },
      "source": [
        "#For 12 classes  -> training_12_2.cpkt\n",
        "#Load pretrained(imagenet) VGG-16 model, leave out FC and Softmax layers\n",
        "vgg16 = tf.keras.applications.VGG16(include_top = False, weights = 'imagenet', pooling = 'max')\n",
        "\n",
        "#Only make last three layer trainable\n",
        "for i in range(17):\n",
        "  vgg16.layers[i].trainable = False\n",
        "\n",
        "model = tf.keras.models.Sequential()\n",
        "model.add(vgg16)\n",
        "model.add(tf.keras.layers.Dense(12 ,activation = 'softmax'))\n",
        "\n",
        "#See the model summary\n",
        "#vgg16.summary()\n",
        "model.summary()"
      ],
      "execution_count": null,
      "outputs": [
        {
          "output_type": "stream",
          "text": [
            "WARNING:tensorflow:From /usr/local/lib/python3.6/dist-packages/tensorflow/python/ops/resource_variable_ops.py:435: colocate_with (from tensorflow.python.framework.ops) is deprecated and will be removed in a future version.\n",
            "Instructions for updating:\n",
            "Colocations handled automatically by placer.\n",
            "Downloading data from https://github.com/fchollet/deep-learning-models/releases/download/v0.1/vgg16_weights_tf_dim_ordering_tf_kernels_notop.h5\n",
            "58892288/58889256 [==============================] - 1s 0us/step\n",
            "_________________________________________________________________\n",
            "Layer (type)                 Output Shape              Param #   \n",
            "=================================================================\n",
            "vgg16 (Model)                (None, 512)               14714688  \n",
            "_________________________________________________________________\n",
            "dense (Dense)                (None, 12)                6156      \n",
            "=================================================================\n",
            "Total params: 14,720,844\n",
            "Trainable params: 2,365,964\n",
            "Non-trainable params: 12,354,880\n",
            "_________________________________________________________________\n"
          ],
          "name": "stdout"
        }
      ]
    },
    {
      "cell_type": "code",
      "metadata": {
        "id": "mX4v7O-TcLfm"
      },
      "source": [
        "#12 Classes: CASE 2\n",
        "checkpoint_path = \"drive/My Drive/Colab Notebooks/kerem_check.ckpt\"\n",
        "\n",
        "checkpoint_dir = os.path.dirname(checkpoint_path)\n",
        "\n",
        "# Create checkpoint callback\n",
        "cp_callback = tf.keras.callbacks.ModelCheckpoint(checkpoint_path, \n",
        "                                                 monitor='val_loss',\n",
        "                                                 save_weights_only=True,\n",
        "                                                 save_best_only=True,\n",
        "                                                 verbose=1)\n",
        "csvlog  = tf.keras.callbacks.CSVLogger('drive/My Drive/Colab Notebooks/kerem_check_log.csv',)"
      ],
      "execution_count": null,
      "outputs": []
    },
    {
      "cell_type": "markdown",
      "metadata": {
        "id": "MGjIaSERc6_N"
      },
      "source": [
        "#38 CLASS, CASE 1, ONLY LAST LAYER TRAINABLE"
      ]
    },
    {
      "cell_type": "code",
      "metadata": {
        "id": "Rw266X64M1jQ"
      },
      "source": [
        "#For 38 classes  -> training_38_1.cpkt\n",
        "#Load pretrained(imagenet) VGG-16 model, leave out FC and Softmax layers\n",
        "vgg16 = tf.keras.applications.VGG16(include_top = False, weights = 'imagenet', pooling = 'max')\n",
        "\n",
        "#Only make last layer trainable\n",
        "for i in range(19):\n",
        "  vgg16.layers[i].trainable = False\n",
        "  \n",
        "model = tf.keras.models.Sequential()\n",
        "model.add(vgg16)\n",
        "model.add(tf.keras.layers.Dense(38 ,activation = 'softmax'))\n",
        "\n",
        "#See the model summary\n",
        "model.summary()"
      ],
      "execution_count": null,
      "outputs": []
    },
    {
      "cell_type": "code",
      "metadata": {
        "id": "AMBV3oFScLr-"
      },
      "source": [
        "#38 Classes: CASE 1\n",
        "checkpoint_path = \"drive/My Drive/Colab Notebooks/TensorFlow/training_38_1/cp.ckpt\"\n",
        "\n",
        "checkpoint_dir = os.path.dirname(checkpoint_path)\n",
        "\n",
        "# Create checkpoint callback\n",
        "cp_callback = tf.keras.callbacks.ModelCheckpoint(checkpoint_path, \n",
        "                                                 monitor='val_loss',\n",
        "                                                 save_weights_only=True,\n",
        "                                                 save_best_only=True,\n",
        "                                                 verbose=1)"
      ],
      "execution_count": null,
      "outputs": []
    },
    {
      "cell_type": "markdown",
      "metadata": {
        "id": "K0S1zSqec9a4"
      },
      "source": [
        "#38 CLASS, CASE 2, ONLY LAST THREE LAYERS TRAINABLE"
      ]
    },
    {
      "cell_type": "code",
      "metadata": {
        "id": "1Vug6fYgQexC",
        "colab": {
          "base_uri": "https://localhost:8080/",
          "height": 204
        },
        "outputId": "62a09830-0e40-4a1e-9a6c-336bfbdcfa03"
      },
      "source": [
        "#For 38 classes  -> training_38_2.cpkt\n",
        "#Load pretrained(imagenet) VGG-16 model, leave out FC and Softmax layers\n",
        "vgg16 = tf.keras.applications.VGG16(include_top = False, weights = 'imagenet', pooling = 'max')\n",
        "\n",
        "#Only make last three layers trainable\n",
        "for i in range(17):\n",
        "  vgg16.layers[i].trainable = False\n",
        "  \n",
        "model = tf.keras.models.Sequential()\n",
        "model.add(vgg16)\n",
        "model.add(tf.keras.layers.Dense(38 ,activation = 'softmax'))\n",
        "\n",
        "#See the model summary\n",
        "model.summary()"
      ],
      "execution_count": null,
      "outputs": [
        {
          "output_type": "stream",
          "text": [
            "_________________________________________________________________\n",
            "Layer (type)                 Output Shape              Param #   \n",
            "=================================================================\n",
            "vgg16 (Model)                (None, 512)               14714688  \n",
            "_________________________________________________________________\n",
            "dense_2 (Dense)              (None, 38)                19494     \n",
            "=================================================================\n",
            "Total params: 14,734,182\n",
            "Trainable params: 2,379,302\n",
            "Non-trainable params: 12,354,880\n",
            "_________________________________________________________________\n"
          ],
          "name": "stdout"
        }
      ]
    },
    {
      "cell_type": "code",
      "metadata": {
        "id": "dXA0H6N5cL2E"
      },
      "source": [
        "#38 Classes: CASE 2\n",
        "checkpoint_path = \"drive/My Drive/Colab Notebooks/TensorFlow/WHYTHO/cp2.ckpt\"\n",
        "\n",
        "checkpoint_dir = os.path.dirname(checkpoint_path)\n",
        "\n",
        "# Create checkpoint callback\n",
        "cp_callback = tf.keras.callbacks.ModelCheckpoint(checkpoint_path, \n",
        "                                                 monitor='val_loss',\n",
        "                                                 save_weights_only=True,\n",
        "                                                 save_best_only=True,\n",
        "                                                 verbose=1)"
      ],
      "execution_count": null,
      "outputs": []
    },
    {
      "cell_type": "markdown",
      "metadata": {
        "id": "jSf_YIvudiIl"
      },
      "source": [
        "#COMPILE THE MODEL"
      ]
    },
    {
      "cell_type": "code",
      "metadata": {
        "id": "A7WrgxxBSK2m"
      },
      "source": [
        "model.compile(\n",
        "    optimizer=tf.train.AdamOptimizer(learning_rate=1e-3, ),\n",
        "    loss=tf.keras.losses.sparse_categorical_crossentropy,\n",
        "    metrics=['acc']\n",
        ")"
      ],
      "execution_count": null,
      "outputs": []
    },
    {
      "cell_type": "code",
      "metadata": {
        "id": "N59THvaMAguy",
        "colab": {
          "base_uri": "https://localhost:8080/",
          "height": 4865
        },
        "outputId": "3c95925b-a2bb-48fc-a0db-4270db33adb6"
      },
      "source": [
        "#Load pretrained weights\n",
        "#model.load_weights(checkpoint_path)\n",
        "\n",
        "#SKIP this block, if you only want to evaluate the results\n",
        "#Fit generator\n",
        "model.fit_generator(\n",
        "    image_data,\n",
        "    epochs=100,\n",
        "    steps_per_epoch=200,\n",
        "    validation_data = validation_data,\n",
        "    callbacks = [cp_callback,csvlog],\n",
        "    verbose = 1\n",
        ")"
      ],
      "execution_count": null,
      "outputs": [
        {
          "output_type": "stream",
          "text": [
            "Epoch 1/100\n"
          ],
          "name": "stdout"
        },
        {
          "output_type": "stream",
          "text": [
            "/usr/local/lib/python3.6/dist-packages/keras_preprocessing/image/image_data_generator.py:699: UserWarning: This ImageDataGenerator specifies `featurewise_center`, but it hasn't been fit on any training data. Fit it first by calling `.fit(numpy_data)`.\n",
            "  warnings.warn('This ImageDataGenerator specifies '\n",
            "/usr/local/lib/python3.6/dist-packages/keras_preprocessing/image/image_data_generator.py:707: UserWarning: This ImageDataGenerator specifies `featurewise_std_normalization`, but it hasn't been fit on any training data. Fit it first by calling `.fit(numpy_data)`.\n",
            "  warnings.warn('This ImageDataGenerator specifies '\n"
          ],
          "name": "stderr"
        },
        {
          "output_type": "stream",
          "text": [
            "268/268 [==============================] - 149s 557ms/step - loss: 0.4759 - acc: 0.9323\n",
            "\n",
            "Epoch 00001: val_loss improved from inf to 0.47590, saving model to drive/My Drive/Colab Notebooks/kerem_check.ckpt\n",
            "WARNING:tensorflow:From /usr/local/lib/python3.6/dist-packages/tensorflow/python/keras/engine/network.py:1436: update_checkpoint_state (from tensorflow.python.training.checkpoint_management) is deprecated and will be removed in a future version.\n",
            "Instructions for updating:\n",
            "Use tf.train.CheckpointManager to manage checkpoints rather than manually editing the Checkpoint proto.\n",
            "1074/1074 [==============================] - 774s 720ms/step - loss: 0.6030 - acc: 0.8881 - val_loss: 0.4759 - val_acc: 0.9323\n",
            "Epoch 2/100\n",
            "268/268 [==============================] - 146s 545ms/step - loss: 0.5042 - acc: 0.9210\n",
            "\n",
            "Epoch 00002: val_loss did not improve from 0.47590\n",
            "1074/1074 [==============================] - 756s 704ms/step - loss: 0.4804 - acc: 0.9302 - val_loss: 0.5042 - val_acc: 0.9210\n",
            "Epoch 3/100\n",
            "268/268 [==============================] - 147s 548ms/step - loss: 0.4623 - acc: 0.9383\n",
            "\n",
            "Epoch 00003: val_loss improved from 0.47590 to 0.46227, saving model to drive/My Drive/Colab Notebooks/kerem_check.ckpt\n",
            "1074/1074 [==============================] - 761s 708ms/step - loss: 0.4519 - acc: 0.9407 - val_loss: 0.4623 - val_acc: 0.9383\n",
            "Epoch 4/100\n",
            "268/268 [==============================] - 146s 545ms/step - loss: 0.4704 - acc: 0.9379\n",
            "\n",
            "Epoch 00004: val_loss did not improve from 0.46227\n",
            "1074/1074 [==============================] - 762s 710ms/step - loss: 0.4521 - acc: 0.9410 - val_loss: 0.4704 - val_acc: 0.9379\n",
            "Epoch 5/100\n",
            "268/268 [==============================] - 145s 542ms/step - loss: 0.4490 - acc: 0.9428\n",
            "\n",
            "Epoch 00005: val_loss improved from 0.46227 to 0.44901, saving model to drive/My Drive/Colab Notebooks/kerem_check.ckpt\n",
            "1074/1074 [==============================] - 757s 705ms/step - loss: 0.4300 - acc: 0.9483 - val_loss: 0.4490 - val_acc: 0.9428\n",
            "Epoch 6/100\n",
            "268/268 [==============================] - 146s 545ms/step - loss: 0.4533 - acc: 0.9434\n",
            "\n",
            "Epoch 00006: val_loss did not improve from 0.44901\n",
            "1074/1074 [==============================] - 759s 707ms/step - loss: 0.4287 - acc: 0.9493 - val_loss: 0.4533 - val_acc: 0.9434\n",
            "Epoch 7/100\n",
            "268/268 [==============================] - 144s 537ms/step - loss: 0.4540 - acc: 0.9418\n",
            "\n",
            "Epoch 00007: val_loss did not improve from 0.44901\n",
            "1074/1074 [==============================] - 754s 702ms/step - loss: 0.4247 - acc: 0.9515 - val_loss: 0.4540 - val_acc: 0.9418\n",
            "Epoch 8/100\n",
            "268/268 [==============================] - 141s 528ms/step - loss: 0.4760 - acc: 0.9441\n",
            "\n",
            "Epoch 00008: val_loss did not improve from 0.44901\n",
            "1074/1074 [==============================] - 743s 692ms/step - loss: 0.4183 - acc: 0.9542 - val_loss: 0.4760 - val_acc: 0.9441\n",
            "Epoch 9/100\n",
            "268/268 [==============================] - 142s 531ms/step - loss: 0.4288 - acc: 0.9508\n",
            "\n",
            "Epoch 00009: val_loss improved from 0.44901 to 0.42880, saving model to drive/My Drive/Colab Notebooks/kerem_check.ckpt\n",
            "1074/1074 [==============================] - 744s 693ms/step - loss: 0.4048 - acc: 0.9574 - val_loss: 0.4288 - val_acc: 0.9508\n",
            "Epoch 10/100\n",
            "268/268 [==============================] - 140s 523ms/step - loss: 0.4382 - acc: 0.9485\n",
            "\n",
            "Epoch 00010: val_loss did not improve from 0.42880\n",
            "1074/1074 [==============================] - 738s 688ms/step - loss: 0.4042 - acc: 0.9589 - val_loss: 0.4382 - val_acc: 0.9485\n",
            "Epoch 11/100\n",
            "268/268 [==============================] - 143s 535ms/step - loss: 0.4903 - acc: 0.9467\n",
            "\n",
            "Epoch 00011: val_loss did not improve from 0.42880\n",
            "1074/1074 [==============================] - 739s 688ms/step - loss: 0.4065 - acc: 0.9583 - val_loss: 0.4903 - val_acc: 0.9467\n",
            "Epoch 12/100\n",
            "268/268 [==============================] - 145s 539ms/step - loss: 0.4482 - acc: 0.9470\n",
            "\n",
            "Epoch 00012: val_loss did not improve from 0.42880\n",
            "1074/1074 [==============================] - 752s 700ms/step - loss: 0.3993 - acc: 0.9604 - val_loss: 0.4482 - val_acc: 0.9470\n",
            "Epoch 13/100\n",
            "268/268 [==============================] - 144s 539ms/step - loss: 0.4454 - acc: 0.9506\n",
            "\n",
            "Epoch 00013: val_loss did not improve from 0.42880\n",
            "1074/1074 [==============================] - 753s 701ms/step - loss: 0.3958 - acc: 0.9613 - val_loss: 0.4454 - val_acc: 0.9506\n",
            "Epoch 14/100\n",
            "268/268 [==============================] - 144s 539ms/step - loss: 0.4733 - acc: 0.9478\n",
            "\n",
            "Epoch 00014: val_loss did not improve from 0.42880\n",
            "1074/1074 [==============================] - 752s 700ms/step - loss: 0.3995 - acc: 0.9606 - val_loss: 0.4733 - val_acc: 0.9478\n",
            "Epoch 15/100\n",
            "268/268 [==============================] - 146s 545ms/step - loss: 0.4490 - acc: 0.9510\n",
            "\n",
            "Epoch 00015: val_loss did not improve from 0.42880\n",
            "1074/1074 [==============================] - 752s 700ms/step - loss: 0.3940 - acc: 0.9631 - val_loss: 0.4490 - val_acc: 0.9510\n",
            "Epoch 16/100\n",
            "268/268 [==============================] - 147s 548ms/step - loss: 0.4892 - acc: 0.9485\n",
            "\n",
            "Epoch 00016: val_loss did not improve from 0.42880\n",
            "1074/1074 [==============================] - 757s 705ms/step - loss: 0.3931 - acc: 0.9642 - val_loss: 0.4892 - val_acc: 0.9485\n",
            "Epoch 17/100\n",
            "268/268 [==============================] - 145s 542ms/step - loss: 0.4532 - acc: 0.9531\n",
            "\n",
            "Epoch 00017: val_loss did not improve from 0.42880\n",
            "1074/1074 [==============================] - 758s 706ms/step - loss: 0.3915 - acc: 0.9638 - val_loss: 0.4532 - val_acc: 0.9531\n",
            "Epoch 18/100\n",
            "268/268 [==============================] - 144s 539ms/step - loss: 0.5144 - acc: 0.9428\n",
            "\n",
            "Epoch 00018: val_loss did not improve from 0.42880\n",
            "1074/1074 [==============================] - 753s 701ms/step - loss: 0.3932 - acc: 0.9640 - val_loss: 0.5144 - val_acc: 0.9428\n",
            "Epoch 19/100\n",
            "268/268 [==============================] - 143s 534ms/step - loss: 0.4682 - acc: 0.9511\n",
            "\n",
            "Epoch 00019: val_loss did not improve from 0.42880\n",
            "1074/1074 [==============================] - 748s 697ms/step - loss: 0.3917 - acc: 0.9647 - val_loss: 0.4682 - val_acc: 0.9511\n",
            "Epoch 20/100\n",
            "268/268 [==============================] - 142s 528ms/step - loss: 0.4863 - acc: 0.9495\n",
            "\n",
            "Epoch 00020: val_loss did not improve from 0.42880\n",
            "1074/1074 [==============================] - 746s 694ms/step - loss: 0.3892 - acc: 0.9656 - val_loss: 0.4863 - val_acc: 0.9495\n",
            "Epoch 21/100\n",
            "268/268 [==============================] - 146s 545ms/step - loss: 0.4608 - acc: 0.9538\n",
            "\n",
            "Epoch 00021: val_loss did not improve from 0.42880\n",
            "1074/1074 [==============================] - 754s 702ms/step - loss: 0.3847 - acc: 0.9665 - val_loss: 0.4608 - val_acc: 0.9538\n",
            "Epoch 22/100\n",
            "268/268 [==============================] - 146s 545ms/step - loss: 0.4647 - acc: 0.9515\n",
            "\n",
            "Epoch 00022: val_loss did not improve from 0.42880\n",
            "1074/1074 [==============================] - 760s 708ms/step - loss: 0.3862 - acc: 0.9664 - val_loss: 0.4647 - val_acc: 0.9515\n",
            "Epoch 23/100\n",
            "268/268 [==============================] - 146s 544ms/step - loss: 0.4714 - acc: 0.9533\n",
            "\n",
            "Epoch 00023: val_loss did not improve from 0.42880\n",
            "1074/1074 [==============================] - 759s 707ms/step - loss: 0.3833 - acc: 0.9673 - val_loss: 0.4714 - val_acc: 0.9533\n",
            "Epoch 24/100\n",
            "268/268 [==============================] - 148s 553ms/step - loss: 0.4711 - acc: 0.9537\n",
            "\n",
            "Epoch 00024: val_loss did not improve from 0.42880\n",
            "1074/1074 [==============================] - 769s 716ms/step - loss: 0.3900 - acc: 0.9664 - val_loss: 0.4711 - val_acc: 0.9537\n",
            "Epoch 25/100\n",
            "268/268 [==============================] - 148s 554ms/step - loss: 0.5233 - acc: 0.9483\n",
            "\n",
            "Epoch 00025: val_loss did not improve from 0.42880\n",
            "1074/1074 [==============================] - 772s 719ms/step - loss: 0.3870 - acc: 0.9672 - val_loss: 0.5233 - val_acc: 0.9483\n",
            "Epoch 26/100\n",
            "268/268 [==============================] - 148s 552ms/step - loss: 0.4830 - acc: 0.9541\n",
            "\n",
            "Epoch 00026: val_loss did not improve from 0.42880\n",
            "1074/1074 [==============================] - 772s 719ms/step - loss: 0.3843 - acc: 0.9675 - val_loss: 0.4830 - val_acc: 0.9541\n",
            "Epoch 27/100\n",
            "268/268 [==============================] - 148s 554ms/step - loss: 0.5221 - acc: 0.9491\n",
            "\n",
            "Epoch 00027: val_loss did not improve from 0.42880\n",
            "1074/1074 [==============================] - 770s 717ms/step - loss: 0.3850 - acc: 0.9684 - val_loss: 0.5221 - val_acc: 0.9491\n",
            "Epoch 28/100\n",
            "268/268 [==============================] - 146s 544ms/step - loss: 0.5294 - acc: 0.9480\n",
            "\n",
            "Epoch 00028: val_loss did not improve from 0.42880\n",
            "1074/1074 [==============================] - 764s 711ms/step - loss: 0.3840 - acc: 0.9682 - val_loss: 0.5294 - val_acc: 0.9480\n",
            "Epoch 29/100\n",
            "268/268 [==============================] - 147s 550ms/step - loss: 0.5091 - acc: 0.9497\n",
            "\n",
            "Epoch 00029: val_loss did not improve from 0.42880\n",
            "1074/1074 [==============================] - 768s 715ms/step - loss: 0.3793 - acc: 0.9695 - val_loss: 0.5091 - val_acc: 0.9497\n",
            "Epoch 30/100\n",
            "268/268 [==============================] - 148s 552ms/step - loss: 0.4876 - acc: 0.9529\n",
            "\n",
            "Epoch 00030: val_loss did not improve from 0.42880\n",
            "1074/1074 [==============================] - 766s 713ms/step - loss: 0.3859 - acc: 0.9686 - val_loss: 0.4876 - val_acc: 0.9529\n",
            "Epoch 31/100\n",
            "268/268 [==============================] - 148s 553ms/step - loss: 0.5204 - acc: 0.9504\n",
            "\n",
            "Epoch 00031: val_loss did not improve from 0.42880\n",
            "1074/1074 [==============================] - 772s 719ms/step - loss: 0.3824 - acc: 0.9686 - val_loss: 0.5204 - val_acc: 0.9504\n",
            "Epoch 32/100\n",
            "268/268 [==============================] - 148s 554ms/step - loss: 0.5038 - acc: 0.9518\n",
            "\n",
            "Epoch 00032: val_loss did not improve from 0.42880\n",
            "1074/1074 [==============================] - 771s 717ms/step - loss: 0.3832 - acc: 0.9691 - val_loss: 0.5038 - val_acc: 0.9518\n",
            "Epoch 33/100\n",
            "268/268 [==============================] - 149s 555ms/step - loss: 0.4933 - acc: 0.9544\n",
            "\n",
            "Epoch 00033: val_loss did not improve from 0.42880\n",
            "1074/1074 [==============================] - 772s 719ms/step - loss: 0.3798 - acc: 0.9701 - val_loss: 0.4933 - val_acc: 0.9544\n",
            "Epoch 34/100\n",
            "268/268 [==============================] - 148s 554ms/step - loss: 0.4980 - acc: 0.9547\n",
            "\n",
            "Epoch 00034: val_loss did not improve from 0.42880\n",
            "1074/1074 [==============================] - 772s 719ms/step - loss: 0.3808 - acc: 0.9695 - val_loss: 0.4980 - val_acc: 0.9547\n",
            "Epoch 35/100\n",
            "268/268 [==============================] - 148s 553ms/step - loss: 0.5162 - acc: 0.9533\n",
            "\n",
            "Epoch 00035: val_loss did not improve from 0.42880\n",
            "1074/1074 [==============================] - 770s 717ms/step - loss: 0.3772 - acc: 0.9702 - val_loss: 0.5162 - val_acc: 0.9533\n",
            "Epoch 36/100\n",
            "268/268 [==============================] - 149s 554ms/step - loss: 0.5266 - acc: 0.9511\n",
            "\n",
            "Epoch 00036: val_loss did not improve from 0.42880\n",
            "1074/1074 [==============================] - 772s 719ms/step - loss: 0.3794 - acc: 0.9703 - val_loss: 0.5266 - val_acc: 0.9511\n",
            "Epoch 37/100\n",
            "268/268 [==============================] - 148s 553ms/step - loss: 0.5114 - acc: 0.9548\n",
            "\n",
            "Epoch 00037: val_loss did not improve from 0.42880\n",
            "1074/1074 [==============================] - 773s 719ms/step - loss: 0.3788 - acc: 0.9705 - val_loss: 0.5114 - val_acc: 0.9548\n",
            "Epoch 38/100\n",
            "268/268 [==============================] - 146s 546ms/step - loss: 0.5671 - acc: 0.9488\n",
            "\n",
            "Epoch 00038: val_loss did not improve from 0.42880\n",
            "1074/1074 [==============================] - 768s 715ms/step - loss: 0.3803 - acc: 0.9705 - val_loss: 0.5671 - val_acc: 0.9488\n",
            "Epoch 39/100\n",
            "268/268 [==============================] - 147s 549ms/step - loss: 0.5408 - acc: 0.9524\n",
            "\n",
            "Epoch 00039: val_loss did not improve from 0.42880\n",
            "1074/1074 [==============================] - 764s 712ms/step - loss: 0.3801 - acc: 0.9707 - val_loss: 0.5408 - val_acc: 0.9524\n",
            "Epoch 40/100\n",
            "268/268 [==============================] - 148s 553ms/step - loss: 0.5069 - acc: 0.9543\n",
            "\n",
            "Epoch 00040: val_loss did not improve from 0.42880\n",
            "1074/1074 [==============================] - 766s 713ms/step - loss: 0.3738 - acc: 0.9719 - val_loss: 0.5069 - val_acc: 0.9543\n",
            "Epoch 41/100\n",
            "268/268 [==============================] - 159s 595ms/step - loss: 0.5145 - acc: 0.9547\n",
            "\n",
            "Epoch 00041: val_loss did not improve from 0.42880\n",
            "1074/1074 [==============================] - 807s 751ms/step - loss: 0.3845 - acc: 0.9701 - val_loss: 0.5145 - val_acc: 0.9547\n",
            "Epoch 42/100\n",
            "268/268 [==============================] - 161s 599ms/step - loss: 0.5641 - acc: 0.9538\n",
            "\n",
            "Epoch 00042: val_loss did not improve from 0.42880\n",
            "1074/1074 [==============================] - 818s 761ms/step - loss: 0.3852 - acc: 0.9703 - val_loss: 0.5641 - val_acc: 0.9538\n",
            "Epoch 43/100\n",
            "268/268 [==============================] - 160s 597ms/step - loss: 0.5243 - acc: 0.9546\n",
            "\n",
            "Epoch 00043: val_loss did not improve from 0.42880\n",
            "1074/1074 [==============================] - 818s 762ms/step - loss: 0.3846 - acc: 0.9704 - val_loss: 0.5243 - val_acc: 0.9546\n",
            "Epoch 44/100\n",
            "268/268 [==============================] - 155s 577ms/step - loss: 0.5268 - acc: 0.9560\n",
            "\n",
            "Epoch 00044: val_loss did not improve from 0.42880\n",
            "1074/1074 [==============================] - 810s 754ms/step - loss: 0.3735 - acc: 0.9721 - val_loss: 0.5268 - val_acc: 0.9560\n",
            "Epoch 45/100\n",
            "268/268 [==============================] - 155s 580ms/step - loss: 0.5474 - acc: 0.9518\n",
            "\n",
            "Epoch 00045: val_loss did not improve from 0.42880\n",
            "1074/1074 [==============================] - 820s 764ms/step - loss: 0.3809 - acc: 0.9712 - val_loss: 0.5474 - val_acc: 0.9518\n",
            "Epoch 46/100\n",
            "268/268 [==============================] - 159s 595ms/step - loss: 0.5145 - acc: 0.9564\n",
            "\n",
            "Epoch 00046: val_loss did not improve from 0.42880\n",
            "1074/1074 [==============================] - 809s 753ms/step - loss: 0.3826 - acc: 0.9715 - val_loss: 0.5145 - val_acc: 0.9564\n",
            "Epoch 47/100\n",
            "268/268 [==============================] - 156s 581ms/step - loss: 0.5606 - acc: 0.9515\n",
            "\n",
            "Epoch 00047: val_loss did not improve from 0.42880\n",
            "1074/1074 [==============================] - 814s 758ms/step - loss: 0.3809 - acc: 0.9714 - val_loss: 0.5606 - val_acc: 0.9515\n",
            "Epoch 48/100\n",
            "268/268 [==============================] - 155s 578ms/step - loss: 0.5438 - acc: 0.9567\n",
            "\n",
            "Epoch 00048: val_loss did not improve from 0.42880\n",
            "1074/1074 [==============================] - 806s 750ms/step - loss: 0.3807 - acc: 0.9713 - val_loss: 0.5438 - val_acc: 0.9567\n",
            "Epoch 49/100\n",
            "268/268 [==============================] - 159s 595ms/step - loss: 0.5812 - acc: 0.9498\n",
            "\n",
            "Epoch 00049: val_loss did not improve from 0.42880\n",
            "1074/1074 [==============================] - 815s 759ms/step - loss: 0.3832 - acc: 0.9714 - val_loss: 0.5812 - val_acc: 0.9498\n",
            "Epoch 50/100\n",
            "268/268 [==============================] - 160s 598ms/step - loss: 0.5078 - acc: 0.9581\n",
            "\n",
            "Epoch 00050: val_loss did not improve from 0.42880\n",
            "1074/1074 [==============================] - 809s 753ms/step - loss: 0.3772 - acc: 0.9724 - val_loss: 0.5078 - val_acc: 0.9581\n",
            "Epoch 51/100\n",
            "268/268 [==============================] - 154s 576ms/step - loss: 0.5424 - acc: 0.9567\n",
            "\n",
            "Epoch 00051: val_loss did not improve from 0.42880\n",
            "1074/1074 [==============================] - 807s 751ms/step - loss: 0.3772 - acc: 0.9723 - val_loss: 0.5424 - val_acc: 0.9567\n",
            "Epoch 52/100\n",
            "268/268 [==============================] - 157s 587ms/step - loss: 0.5972 - acc: 0.9513\n",
            "\n",
            "Epoch 00052: val_loss did not improve from 0.42880\n",
            "1074/1074 [==============================] - 810s 755ms/step - loss: 0.3923 - acc: 0.9710 - val_loss: 0.5972 - val_acc: 0.9513\n",
            "Epoch 53/100\n",
            "268/268 [==============================] - 157s 585ms/step - loss: 0.5786 - acc: 0.9540\n",
            "\n",
            "Epoch 00053: val_loss did not improve from 0.42880\n",
            "1074/1074 [==============================] - 807s 752ms/step - loss: 0.3875 - acc: 0.9713 - val_loss: 0.5786 - val_acc: 0.9540\n",
            "Epoch 54/100\n",
            "268/268 [==============================] - 158s 590ms/step - loss: 0.5648 - acc: 0.9537\n",
            "\n",
            "Epoch 00054: val_loss did not improve from 0.42880\n",
            "1074/1074 [==============================] - 812s 756ms/step - loss: 0.3838 - acc: 0.9720 - val_loss: 0.5648 - val_acc: 0.9537\n",
            "Epoch 55/100\n",
            "268/268 [==============================] - 156s 583ms/step - loss: 0.5183 - acc: 0.9590\n",
            "\n",
            "Epoch 00055: val_loss did not improve from 0.42880\n",
            "1074/1074 [==============================] - 805s 749ms/step - loss: 0.3772 - acc: 0.9726 - val_loss: 0.5183 - val_acc: 0.9590\n",
            "Epoch 56/100\n",
            " 555/1074 [==============>...............] - ETA: 5:13 - loss: 0.3736 - acc: 0.9731"
          ],
          "name": "stdout"
        }
      ]
    },
    {
      "cell_type": "markdown",
      "metadata": {
        "id": "AIPj3-1BUcGe"
      },
      "source": [
        "#TEST\n",
        "\n"
      ]
    },
    {
      "cell_type": "code",
      "metadata": {
        "id": "lfMFpg_IL8kI",
        "colab": {
          "base_uri": "https://localhost:8080/",
          "height": 139
        },
        "outputId": "687af659-5246-418c-ab56-e30d8dd4909e"
      },
      "source": [
        "#Evaluate performance over test data\n",
        "model.load_weights(checkpoint_path)\n",
        "loss,acc = model.evaluate_generator(test_data)\n",
        "print(\"Loss(Test Data)\", loss)\n",
        "print(\"Accuracy(Test Data)\", acc)\n",
        "#See class probabilities\n",
        "pred = model.predict_generator(test_data)"
      ],
      "execution_count": null,
      "outputs": [
        {
          "output_type": "stream",
          "text": [
            "/usr/local/lib/python3.6/dist-packages/keras_preprocessing/image.py:1131: UserWarning: This ImageDataGenerator specifies `featurewise_center`, but it hasn't been fit on any training data. Fit it first by calling `.fit(numpy_data)`.\n",
            "  warnings.warn('This ImageDataGenerator specifies '\n",
            "/usr/local/lib/python3.6/dist-packages/keras_preprocessing/image.py:1139: UserWarning: This ImageDataGenerator specifies `featurewise_std_normalization`, but it hasn't been fit on any training data. Fit it first by calling `.fit(numpy_data)`.\n",
            "  warnings.warn('This ImageDataGenerator specifies '\n"
          ],
          "name": "stderr"
        },
        {
          "output_type": "stream",
          "text": [
            "Loss(Test Data) 0.12167287780651384\n",
            "Accuracy(Test Data) 0.9652509651852127\n"
          ],
          "name": "stdout"
        }
      ]
    },
    {
      "cell_type": "code",
      "metadata": {
        "id": "DEUSfDoRPBUa",
        "colab": {
          "base_uri": "https://localhost:8080/",
          "height": 163
        },
        "outputId": "2027470d-a1f8-498b-c99d-5c50468d4953"
      },
      "source": [
        "#Find misclassified examples\n",
        "\n",
        "plt.close()\n",
        "\n",
        "ind = np.absolute(np.argmax(pred, axis = 1)-test_data.classes)\n",
        "item = 7 #Must be more than 1\n",
        "index = np.where(ind == item) \n",
        "tclas = test_data.classes[index]\n",
        "fclas = pred[index]\n",
        "\n",
        "img = plt.imread(\"Plant-Disease-Identification/38CLASS/test/\"+test_data.filenames[index[0][0]])\n",
        "img0 = plt.imread(\"Plant-Disease-Identification/38CLASS/test/\"+test_data.filenames[index[0][0]+1])\n",
        "img1 = plt.imread(\"Plant-Disease-Identification/38CLASS/test/\"+test_data.filenames[index[0][0]+2])\n",
        "img2 = plt.imread(\"Plant-Disease-Identification/38CLASS/test/\"+test_data.filenames[index[0][0]+3])\n",
        "img3 = plt.imread(\"Plant-Disease-Identification/38CLASS/test/\"+test_data.filenames[index[0][0]+4])\n",
        "img4 = plt.imread(\"Plant-Disease-Identification/38CLASS/test/\"+test_data.filenames[index[0][0]+5])\n",
        "\n",
        "\n",
        "for i in range(1800,2800):#range(pred.shape[0]):\n",
        "  if i in index[0]:\n",
        "    img5 = plt.imread(\"Plant-Disease-Identification/38CLASS/test/\"+ test_data.filenames[i])\n",
        "    img6 = plt.imread(\"Plant-Disease-Identification/38CLASS/test/\"+test_data.filenames[i+1])\n",
        "    img7 = plt.imread(\"Plant-Disease-Identification/38CLASS/test/\"+test_data.filenames[i+2])\n",
        "    img8 = plt.imread(\"Plant-Disease-Identification/38CLASS/test/\"+test_data.filenames[i+3])\n",
        "    img9 = plt.imread(\"Plant-Disease-Identification/38CLASS/test/\"+test_data.filenames[i+4])\n",
        "    img10 = plt.imread(\"Plant-Disease-Identification/38CLASS/test/\"+test_data.filenames[i+5])    \n",
        "    break    \n",
        "    \n",
        "print(test_data.filenames[index[0][0]]+test_data.filenames[i])\n",
        "plt.subplot(1,6,1)\n",
        "plt.grid(False)\n",
        "plt.axis('Off')\n",
        "plt.imshow(img5)\n",
        "plt.subplot(1,6,2)\n",
        "plt.grid(False)\n",
        "plt.axis('Off')\n",
        "plt.imshow(img6)\n",
        "plt.subplot(1,6,3)\n",
        "plt.grid(False)\n",
        "plt.axis('Off')\n",
        "plt.imshow(img7)\n",
        "plt.subplot(1,6,4)\n",
        "plt.grid(False)\n",
        "plt.axis('Off')\n",
        "plt.imshow(img8)\n",
        "plt.subplot(1,6,5)\n",
        "plt.grid(False)\n",
        "plt.axis('Off')\n",
        "plt.imshow(img9)\n",
        "plt.subplot(1,6,6)\n",
        "plt.grid(False)\n",
        "plt.axis('Off')\n",
        "plt.imshow(img10)\n",
        "\n",
        "plt.subplots_adjust(hspace = -0.7, wspace = 0)\n",
        "\n",
        "\n",
        "#print(test_data.filenames[index[0][0]]+\"_misclassified_as_\"+test_data.filenames[i])\n",
        "plt.savefig(\"drive/My Drive/Colab Notebooks/TensorFlow/Results/Grape_Leaf_Blight.jpg\")\n"
      ],
      "execution_count": null,
      "outputs": [
        {
          "output_type": "stream",
          "text": [
            "Peach___Bacterial_spot/Peach___Bacterial_spot305.jpgGrape___Leaf_blight_(Isariopsis_Leaf_Spot)/Grape___Leaf_blight_(Isariopsis_Leaf_Spot)6.jpg\n"
          ],
          "name": "stdout"
        },
        {
          "output_type": "display_data",
          "data": {
            "image/png": "[encoded data removed]",
            "text/plain": [
              "<Figure size 576x396 with 6 Axes>"
            ]
          },
          "metadata": {
            "tags": []
          }
        }
      ]
    },
    {
      "cell_type": "code",
      "metadata": {
        "id": "vIjioar4RSE5",
        "colab": {
          "base_uri": "https://localhost:8080/",
          "height": 249
        },
        "outputId": "3ad7e0ea-d263-4883-af42-6b81c7c5090e"
      },
      "source": [
        "#Plot accuracy graph\n",
        "\n",
        "fig = plt.figure()\n",
        "plt.plot(model.history.history['acc'])\n",
        "plt.plot(model.history.history['val_acc'])\n",
        "plt.title('model accuracy')\n",
        "plt.ylabel('accuracy')\n",
        "plt.xlabel('epoch')\n",
        "plt.legend(['train', 'validation'], loc='upper left')\n",
        "plt.show()\n",
        "fig.savefig('drive/My Drive/Colab Notebooks/TensorFlow/Results/Accuracy_12_1.eps')"
      ],
      "execution_count": null,
      "outputs": [
        {
          "output_type": "error",
          "ename": "AttributeError",
          "evalue": "ignored",
          "traceback": [
            "\u001b[0;31m---------------------------------------------------------------------------\u001b[0m",
            "\u001b[0;31mAttributeError\u001b[0m                            Traceback (most recent call last)",
            "\u001b[0;32m<ipython-input-40-af9f835f1107>\u001b[0m in \u001b[0;36m<module>\u001b[0;34m()\u001b[0m\n\u001b[1;32m      1\u001b[0m \u001b[0;34m\u001b[0m\u001b[0m\n\u001b[1;32m      2\u001b[0m \u001b[0mfig\u001b[0m \u001b[0;34m=\u001b[0m \u001b[0mplt\u001b[0m\u001b[0;34m.\u001b[0m\u001b[0mfigure\u001b[0m\u001b[0;34m(\u001b[0m\u001b[0;34m)\u001b[0m\u001b[0;34m\u001b[0m\u001b[0;34m\u001b[0m\u001b[0m\n\u001b[0;32m----> 3\u001b[0;31m \u001b[0mplt\u001b[0m\u001b[0;34m.\u001b[0m\u001b[0mplot\u001b[0m\u001b[0;34m(\u001b[0m\u001b[0mmodel\u001b[0m\u001b[0;34m.\u001b[0m\u001b[0mhistory\u001b[0m\u001b[0;34m.\u001b[0m\u001b[0mhistory\u001b[0m\u001b[0;34m[\u001b[0m\u001b[0;34m'acc'\u001b[0m\u001b[0;34m]\u001b[0m\u001b[0;34m)\u001b[0m\u001b[0;34m\u001b[0m\u001b[0;34m\u001b[0m\u001b[0m\n\u001b[0m\u001b[1;32m      4\u001b[0m \u001b[0mplt\u001b[0m\u001b[0;34m.\u001b[0m\u001b[0mplot\u001b[0m\u001b[0;34m(\u001b[0m\u001b[0mmodel\u001b[0m\u001b[0;34m.\u001b[0m\u001b[0mhistory\u001b[0m\u001b[0;34m.\u001b[0m\u001b[0mhistory\u001b[0m\u001b[0;34m[\u001b[0m\u001b[0;34m'val_acc'\u001b[0m\u001b[0;34m]\u001b[0m\u001b[0;34m)\u001b[0m\u001b[0;34m\u001b[0m\u001b[0;34m\u001b[0m\u001b[0m\n\u001b[1;32m      5\u001b[0m \u001b[0mplt\u001b[0m\u001b[0;34m.\u001b[0m\u001b[0mtitle\u001b[0m\u001b[0;34m(\u001b[0m\u001b[0;34m'model accuracy'\u001b[0m\u001b[0;34m)\u001b[0m\u001b[0;34m\u001b[0m\u001b[0;34m\u001b[0m\u001b[0m\n",
            "\u001b[0;31mAttributeError\u001b[0m: 'Sequential' object has no attribute 'history'"
          ]
        },
        {
          "output_type": "display_data",
          "data": {
            "text/plain": [
              "<Figure size 576x396 with 0 Axes>"
            ]
          },
          "metadata": {
            "tags": []
          }
        }
      ]
    },
    {
      "cell_type": "code",
      "metadata": {
        "id": "y3Lyl5anSAxU",
        "colab": {
          "base_uri": "https://localhost:8080/",
          "height": 376
        },
        "outputId": "1cde8d04-2c05-4b13-f78c-5da6c5df79cb"
      },
      "source": [
        "#Plot loss graph\n",
        "\n",
        "fig2 = plt.figure()\n",
        "plt.plot(model.history.history['loss'])\n",
        "plt.plot(model.history.history['val_loss'])\n",
        "plt.title('model loss')\n",
        "plt.ylabel('loss')\n",
        "plt.xlabel('epoch')\n",
        "plt.legend(['train', 'validation'], loc='upper right')\n",
        "plt.show()\n",
        "fig2.savefig('drive/My Drive/Colab Notebooks/TensorFlow/Results/Loss_12_1.png')"
      ],
      "execution_count": null,
      "outputs": [
        {
          "output_type": "display_data",
          "data": {
            "image/png": "[encoded data removed]",
            "text/plain": [
              "<Figure size 576x396 with 1 Axes>"
            ]
          },
          "metadata": {
            "tags": []
          }
        }
      ]
    },
    {
      "cell_type": "code",
      "metadata": {
        "id": "P_3MsdCZNJx7",
        "colab": {
          "base_uri": "https://localhost:8080/",
          "height": 164
        },
        "outputId": "6f285d03-1aa8-4dc8-b574-09e2e40d4642"
      },
      "source": [
        "matrix = metrics.confusion_matrix(test_data.argmax(axis=1), y_pred.argmax(axis=1))"
      ],
      "execution_count": null,
      "outputs": [
        {
          "output_type": "error",
          "ename": "AttributeError",
          "evalue": "ignored",
          "traceback": [
            "\u001b[0;31m---------------------------------------------------------------------------\u001b[0m",
            "\u001b[0;31mAttributeError\u001b[0m                            Traceback (most recent call last)",
            "\u001b[0;32m<ipython-input-96-0a254dff5cdd>\u001b[0m in \u001b[0;36m<module>\u001b[0;34m()\u001b[0m\n\u001b[0;32m----> 1\u001b[0;31m \u001b[0mmatrix\u001b[0m \u001b[0;34m=\u001b[0m \u001b[0mmetrics\u001b[0m\u001b[0;34m.\u001b[0m\u001b[0mconfusion_matrix\u001b[0m\u001b[0;34m(\u001b[0m\u001b[0mtest_data\u001b[0m\u001b[0;34m.\u001b[0m\u001b[0margmax\u001b[0m\u001b[0;34m(\u001b[0m\u001b[0maxis\u001b[0m\u001b[0;34m=\u001b[0m\u001b[0;36m1\u001b[0m\u001b[0;34m)\u001b[0m\u001b[0;34m,\u001b[0m \u001b[0mpred\u001b[0m\u001b[0;34m.\u001b[0m\u001b[0margmax\u001b[0m\u001b[0;34m(\u001b[0m\u001b[0maxis\u001b[0m\u001b[0;34m=\u001b[0m\u001b[0;36m1\u001b[0m\u001b[0;34m)\u001b[0m\u001b[0;34m)\u001b[0m\u001b[0;34m\u001b[0m\u001b[0;34m\u001b[0m\u001b[0m\n\u001b[0m",
            "\u001b[0;31mAttributeError\u001b[0m: 'DirectoryIterator' object has no attribute 'argmax'"
          ]
        }
      ]
    },
    {
      "cell_type": "code",
      "metadata": {
        "id": "3ZcSgeO_yJ1j"
      },
      "source": [
        "# pred = vg.predict_generator(validation_data)\n",
        "\n",
        "from sklearn.metrics import confusion_matrix\n",
        "#test_data = train_gen.flow_from_directory(\"/content/Plant-Disease-Identification/38CLASS/test\", shuffle = False, target_size = (224, 224), class_mode = 'binary')\n",
        "#pred = model.predict_generator(test_data)\n",
        "final_predictions = np.argmax(pred,axis=1)\n",
        "labels = test_data.classes\n",
        "cnf = confusion_matrix(labels,final_predictions)\n",
        "\n",
        "precisions = {}\n",
        "recalls = {}\n",
        "for i in range(len(cnf)):\n",
        "  row = cnf[i]\n",
        "  precisions[i] = row[i]/sum(row)\n",
        "  recalls[i] = row[i]/sum(cnf[:,i])\n",
        "  \n",
        "  \n",
        "table = pd.DataFrame.from_dict(precisions,orient=\"index\")\n",
        "table[\"Recall\"] =  pd.DataFrame.from_dict(recalls,orient=\"index\").values\n",
        "table.rename(columns={0:\"Precision\"},inplace=True)\n",
        "\n",
        "dicty = test_data.class_indices\n",
        "inv_map = {v: k for k, v in dicty.items()}\n",
        "for i in range(len(cnf)):\n",
        "  table = table.rename({i:inv_map[i]})\n",
        "table.to_csv(\"drive/My Drive/Colab Notebooks/TensorFlow/Results/precision_recalls_38_2.csv\")"
      ],
      "execution_count": null,
      "outputs": []
    },
    {
      "cell_type": "code",
      "metadata": {
        "id": "5vyrBM8F4Nvj"
      },
      "source": [
        ""
      ],
      "execution_count": null,
      "outputs": []
    }
  ]
}